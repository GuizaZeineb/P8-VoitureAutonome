{
 "cells": [
  {
   "cell_type": "code",
   "execution_count": 15,
   "metadata": {},
   "outputs": [],
   "source": [
    "import os, glob\n",
    "from PIL import Image\n",
    "import numpy as np\n",
    "import labels"
   ]
  },
  {
   "cell_type": "code",
   "execution_count": 16,
   "metadata": {},
   "outputs": [],
   "source": [
    "image_dir = \"./P8_Cityscapes_leftImg8bit_trainvaltest/leftImg8bit/\"\n",
    "mask_dir = \"./P8_Cityscapes_gtFine_trainvaltest/gtFine/\"\n",
    "out_dir = \"./preprocessed/\""
   ]
  },
  {
   "cell_type": "code",
   "execution_count": 17,
   "metadata": {},
   "outputs": [],
   "source": [
    "map_id_to_cat = {}\n",
    "for label in labels.labels :\n",
    "    map_id_to_cat.update({ label.id : label.categoryId})"
   ]
  },
  {
   "cell_type": "code",
   "execution_count": 18,
   "metadata": {},
   "outputs": [],
   "source": [
    "def preprocess_image_mask(im_path, mask_path, output_dir):\n",
    "    \n",
    "    # Image block\n",
    "    # Opens an image in RGB mode\n",
    "    im = Image.open(im_path) \n",
    "    # Size of the image in pixels (size of original image)\n",
    "    width, height = im.size\n",
    "    newsize = (width//4, height//4)\n",
    "    #newsize = (256, 128)\n",
    "    im = im.resize(newsize)\n",
    "    im.save(os.path.join(output_dir, os.path.basename(im_path)) )\n",
    "\n",
    "    # Mask block\n",
    "    mask = Image.open(mask_path)\n",
    "    mask = np.array(mask)\n",
    "    mask_prepro = np.vectorize(map_id_to_cat.get)(mask)\n",
    "    mask = Image.fromarray(np.uint8 (mask_prepro))\n",
    "    mask = mask.resize(newsize, Image.NEAREST )\n",
    "    mask.save(os.path.join(output_dir, os.path.basename(mask_path)) )\n"
   ]
  },
  {
   "cell_type": "code",
   "execution_count": 19,
   "metadata": {},
   "outputs": [],
   "source": [
    "for dir_name in os.listdir(image_dir):\n",
    "    if dir_name!=\".DS_Store\" :\n",
    "        data_dir = os.path.join(image_dir, dir_name)\n",
    "        for city_dir in os.listdir(data_dir):\n",
    "            city_path = os.path.join(data_dir, city_dir)\n",
    "            city_path += '/*.png'\n",
    "            for name in glob.glob(city_path):\n",
    "                image_id = os.path.basename(name)\n",
    "                image = os.path.join(image_dir, dir_name + '/' + city_dir + '/' + image_id  )\n",
    "                image_id = image_id.split('left')[0]\n",
    "                mask = os.path.join(mask_dir, dir_name + '/' + city_dir + '/' + image_id + 'gtFine_labelIds.png' )\n",
    "                preprocess_image_mask(image, mask,  os.path.join(out_dir, dir_name) )"
   ]
  },
  {
   "cell_type": "markdown",
   "metadata": {},
   "source": []
  },
  {
   "cell_type": "code",
   "execution_count": null,
   "metadata": {},
   "outputs": [],
   "source": []
  },
  {
   "cell_type": "code",
   "execution_count": null,
   "metadata": {},
   "outputs": [],
   "source": [
    "#CLASSES = ['void', 'flat', 'construction', 'object', 'nature', 'sky', 'human', 'vehicle']"
   ]
  },
  {
   "cell_type": "code",
   "execution_count": null,
   "metadata": {},
   "outputs": [],
   "source": []
  },
  {
   "cell_type": "code",
   "execution_count": null,
   "metadata": {},
   "outputs": [],
   "source": []
  },
  {
   "cell_type": "code",
   "execution_count": 33,
   "metadata": {},
   "outputs": [
    {
     "data": {
      "text/plain": [
       "<matplotlib.image.AxesImage at 0x7feac227d5d0>"
      ]
     },
     "execution_count": 33,
     "metadata": {},
     "output_type": "execute_result"
    },
    {
     "data": {
      "image/png": "[encoded data removed]",
      "text/plain": [
       "<Figure size 432x288 with 1 Axes>"
      ]
     },
     "metadata": {
      "needs_background": "light"
     },
     "output_type": "display_data"
    }
   ],
   "source": [
    "id_image = \"bonn_000000_000019\"\n",
    "mask_ = \"/Users/zeineb/Lab8/P8_Cityscapes_gtFine_trainvaltest/gtFine/test/bonn/\" + id_image +\"_gtFine_labelIds.png\"\n",
    "mask = Image.open(mask_)\n",
    "mask = np.array(mask)\n",
    "mask_prepro = mask# np.vectorize(map_id_to_cat.get)(mask)\n",
    "mask = Image.fromarray(np.uint8 (mask_prepro))\n",
    "plt.imshow(mask)"
   ]
  },
  {
   "cell_type": "code",
   "execution_count": 44,
   "metadata": {},
   "outputs": [
    {
     "data": {
      "text/plain": [
       "<matplotlib.image.AxesImage at 0x7feac43351d0>"
      ]
     },
     "execution_count": 44,
     "metadata": {},
     "output_type": "execute_result"
    },
    {
     "data": {
      "image/png": "[encoded data removed]",
      "text/plain": [
       "<Figure size 432x288 with 1 Axes>"
      ]
     },
     "metadata": {
      "needs_background": "light"
     },
     "output_type": "display_data"
    }
   ],
   "source": [
    "id_image = \"bonn_000000_000019\"\n",
    "mask_ = \"/Users/zeineb/Lab8/P8_Cityscapes_gtFine_trainvaltest/gtFine/test/bonn/\" + id_image +\"_gtFine_labelIds.png\"\n",
    "mask = Image.open(mask_)\n",
    "\n",
    "width, height = mask.size\n",
    "newsize = (width//4, height//4)\n",
    "mask = mask.resize(newsize, Image.NEAREST )\n",
    "\n",
    "mask = np.array(mask)\n",
    "mask_prepro =  np.vectorize(map_id_to_cat.get)(mask)\n",
    "mask = Image.fromarray(np.uint8 (mask_prepro))\n",
    "plt.imshow(mask)"
   ]
  },
  {
   "cell_type": "code",
   "execution_count": 43,
   "metadata": {},
   "outputs": [
    {
     "data": {
      "text/plain": [
       "<matplotlib.image.AxesImage at 0x7feac2cb4d10>"
      ]
     },
     "execution_count": 43,
     "metadata": {},
     "output_type": "execute_result"
    },
    {
     "data": {
      "image/png": "[encoded data removed]",
      "text/plain": [
       "<Figure size 432x288 with 1 Axes>"
      ]
     },
     "metadata": {
      "needs_background": "light"
     },
     "output_type": "display_data"
    }
   ],
   "source": [
    "id_image = \"cologne_000006_000019\"#\"bonn_000000_000019\"\n",
    "#mask_ = \"/Users/zeineb/Lab8/P8_Cityscapes_gtFine_trainvaltest/gtFine/test/bonn/\" + id_image +\"_gtFine_labelIds.png\"\n",
    "mask_ = \"./preprocessed/train/\" + id_image +\"_gtFine_labelIds.png\"\n",
    "mask = Image.open(mask_)\n",
    "\n",
    "width, height = mask.size\n",
    "newsize = (width//4, height//4)\n",
    "mask = mask.resize(newsize, Image.NEAREST )\n",
    "\n",
    "mask = np.array(mask)\n",
    "\n",
    "mask_prepro =  np.vectorize(map_id_to_cat.get)(mask)\n",
    "mask = Image.fromarray(np.uint8 (mask_prepro))\n",
    "plt.imshow(mask)"
   ]
  },
  {
   "cell_type": "code",
   "execution_count": 46,
   "metadata": {},
   "outputs": [],
   "source": []
  },
  {
   "cell_type": "code",
   "execution_count": null,
   "metadata": {},
   "outputs": [],
   "source": []
  },
  {
   "cell_type": "code",
   "execution_count": null,
   "metadata": {},
   "outputs": [],
   "source": []
  },
  {
   "cell_type": "code",
   "execution_count": null,
   "metadata": {},
   "outputs": [],
   "source": []
  },
  {
   "cell_type": "code",
   "execution_count": null,
   "metadata": {},
   "outputs": [],
   "source": []
  },
  {
   "cell_type": "code",
   "execution_count": null,
   "metadata": {},
   "outputs": [],
   "source": []
  }
 ],
 "metadata": {
  "kernelspec": {
   "display_name": "Python 3",
   "language": "python",
   "name": "python3"
  },
  "language_info": {
   "codemirror_mode": {
    "name": "ipython",
    "version": 3
   },
   "file_extension": ".py",
   "mimetype": "text/x-python",
   "name": "python",
   "nbconvert_exporter": "python",
   "pygments_lexer": "ipython3",
   "version": "3.7.9"
  },
  "varInspector": {
   "cols": {
    "lenName": 16,
    "lenType": 16,
    "lenVar": 40
   },
   "kernels_config": {
    "python": {
     "delete_cmd_postfix": "",
     "delete_cmd_prefix": "del ",
     "library": "var_list.py",
     "varRefreshCmd": "print(var_dic_list())"
    },
    "r": {
     "delete_cmd_postfix": ") ",
     "delete_cmd_prefix": "rm(",
     "library": "var_list.r",
     "varRefreshCmd": "cat(var_dic_list()) "
    }
   },
   "types_to_exclude": [
    "module",
    "function",
    "builtin_function_or_method",
    "instance",
    "_Feature"
   ],
   "window_display": false
  }
 },
 "nbformat": 4,
 "nbformat_minor": 4
}
